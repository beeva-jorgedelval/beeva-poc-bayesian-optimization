{
 "cells": [
  {
   "cell_type": "code",
   "execution_count": 1,
   "metadata": {
    "collapsed": true
   },
   "outputs": [],
   "source": [
    "import pandas as pd\n",
    "import seaborn as sns\n",
    "import numpy as np\n",
    "import matplotlib.pyplot as plt"
   ]
  },
  {
   "cell_type": "code",
   "execution_count": 2,
   "metadata": {
    "collapsed": true
   },
   "outputs": [],
   "source": [
    "Y_bys = pd.read_csv(\"result_bayesian_cifar_small.csv\", header=-1)\n",
    "Y_rnd = pd.read_csv(\"result_random_cifar_small.csv\", header=-1)\n",
    "Y_grd = pd.read_csv(\"result_gridsearch_cifar_small.csv\", header=-1)"
   ]
  },
  {
   "cell_type": "code",
   "execution_count": 3,
   "metadata": {
    "collapsed": true
   },
   "outputs": [],
   "source": [
    "def cum_min(Y):\n",
    "    Y_min = np.zeros(Y.shape)\n",
    "    Y_min[0,:] = Y[0,:]\n",
    "    for i in range(1,Y.shape[0]):\n",
    "        for j in range(Y.shape[1]):\n",
    "            Y_min[i,j] = np.min(Y[:i, j])\n",
    "    return Y_min"
   ]
  },
  {
   "cell_type": "code",
   "execution_count": 4,
   "metadata": {
    "collapsed": false
   },
   "outputs": [],
   "source": [
    "yb = cum_min(Y_bys.values)\n",
    "yr = cum_min(Y_rnd.values)\n",
    "yg = cum_min(Y_grd.values)"
   ]
  },
  {
   "cell_type": "code",
   "execution_count": 5,
   "metadata": {
    "collapsed": false
   },
   "outputs": [
    {
     "name": "stdout",
     "output_type": "stream",
     "text": [
      "Using matplotlib backend: Qt4Agg\n"
     ]
    }
   ],
   "source": [
    "%matplotlib\n",
    "\n",
    "sns.tsplot(yb.T, color='blue')\n",
    "sns.tsplot(yr.T, color='red')\n",
    "sns.tsplot(yg.T, color='green')\n",
    "plt.legend(['Bayesian','Random','Grid Search'])\n",
    "plt.show()"
   ]
  },
  {
   "cell_type": "code",
   "execution_count": null,
   "metadata": {
    "collapsed": true
   },
   "outputs": [],
   "source": []
  }
 ],
 "metadata": {
  "kernelspec": {
   "display_name": "Python 2",
   "language": "python",
   "name": "python2"
  },
  "language_info": {
   "codemirror_mode": {
    "name": "ipython",
    "version": 2
   },
   "file_extension": ".py",
   "mimetype": "text/x-python",
   "name": "python",
   "nbconvert_exporter": "python",
   "pygments_lexer": "ipython2",
   "version": "2.7.12"
  }
 },
 "nbformat": 4,
 "nbformat_minor": 0
}
