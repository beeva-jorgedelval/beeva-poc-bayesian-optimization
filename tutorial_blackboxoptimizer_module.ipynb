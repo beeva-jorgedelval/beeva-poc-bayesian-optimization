{
 "cells": [
  {
   "cell_type": "markdown",
   "metadata": {},
   "source": [
    "# Tutorial on BlackBoxOptimizer module"
   ]
  },
  {
   "cell_type": "markdown",
   "metadata": {},
   "source": [
    "## Minimizing a simple function"
   ]
  },
  {
   "cell_type": "code",
   "execution_count": 1,
   "metadata": {
    "collapsed": true
   },
   "outputs": [],
   "source": [
    "# You can load BayesianOptimizer, RandomOptimizer or GridSearchOptimizer without loss of generality\n",
    "from optimizers.RandomOptimizer import RandomOptimizer as optimizer_type\n",
    "\n",
    "# Let's minimize the square function with external params. \"a\" and \"b\" args are the coordinates of the optimal x.\n",
    "def func(x, y, a=1., b=2.):\n",
    "    return (x-a)**2 + (y-b)**2\n",
    "\n",
    "# Define the domain as a list of dictionaries. The \"name\" attribute should agree with the variables of the function\n",
    "domain = [{'name': 'x', 'type': 'continuous', 'domain': (-1.,3.)},{'name': 'y', 'type': 'continuous', 'domain': (0.,4.)}]"
   ]
  },
  {
   "cell_type": "code",
   "execution_count": 2,
   "metadata": {
    "collapsed": false
   },
   "outputs": [
    {
     "name": "stdout",
     "output_type": "stream",
     "text": [
      "Iteration 0:\n",
      "Variables: [1.3978298465390515, 2.0417852347070857]\n",
      "Objective: 1.00127262694\n",
      "..................\n",
      "Iteration 1:\n",
      "Variables: [0.8623336715632299, 3.668329018502209]\n",
      "Objective: 4.40927061833\n",
      "..................\n",
      "Iteration 2:\n",
      "Variables: [-0.587284026265793, 0.08419201854977887]\n",
      "Objective: 3.4798603904\n",
      "..................\n",
      "Iteration 3:\n",
      "Variables: [2.1865872175331513, 0.07952600363855256]\n",
      "Objective: 5.15641761596\n",
      "..................\n",
      "Iteration 4:\n",
      "Variables: [1.5143315885252782, 0.0005183438097811077]\n",
      "Objective: 3.58721013997\n",
      "..................\n",
      "Iteration 5:\n",
      "Variables: [1.518255619452093, 1.0516551894760258]\n",
      "Objective: 1.33752653777\n",
      "..................\n",
      "Iteration 6:\n",
      "Variables: [-0.5958999651114083, 0.650790246135803]\n",
      "Objective: 2.10199589036\n",
      "..................\n",
      "Iteration 7:\n",
      "Variables: [2.410757176948743, 2.4145539306196304]\n",
      "Objective: 4.31449109515\n",
      "..................\n",
      "Iteration 8:\n",
      "Variables: [1.6399507784705638, 2.866894881754211]\n",
      "Objective: 2.90451041875\n",
      "..................\n",
      "Iteration 9:\n",
      "Variables: [0.9207968021666693, 0.14728983377015137]\n",
      "Objective: 2.28743677578\n",
      "..................\n",
      "Iteration 10:\n",
      "Variables: [-0.105466253370889, 0.33537945531596547]\n",
      "Objective: 1.96585450601\n",
      "..................\n",
      "Iteration 11:\n",
      "Variables: [1.0977721751432354, 3.3989320503680567]\n",
      "Objective: 3.59348809522\n",
      "..................\n",
      "Iteration 12:\n",
      "Variables: [-0.9324292344589407, 0.3910126639241729]\n",
      "Objective: 3.51350389052\n",
      "..................\n",
      "Iteration 13:\n",
      "Variables: [2.840869928262985, 0.0999912395218101]\n",
      "Objective: 7.72969830256\n",
      "..................\n",
      "Iteration 14:\n",
      "Variables: [-0.33891928065864496, 0.9822814228196202]\n",
      "Objective: 1.08536180005\n",
      "..................\n",
      "Iteration 15:\n",
      "Variables: [-0.7425862181274812, 3.7965708081970853]\n",
      "Objective: 6.3689438249\n",
      "..................\n",
      "Iteration 16:\n",
      "Variables: [1.877902267623349, 0.40256349668453995]\n",
      "Objective: 3.33246883859\n",
      "..................\n",
      "Iteration 17:\n",
      "Variables: [0.31256275937741806, 0.9481836977636369]\n",
      "Objective: 0.459997211033\n",
      "..................\n",
      "Iteration 18:\n",
      "Variables: [1.6386825791922406, 0.5658634111015699]\n",
      "Objective: 2.36603650065\n",
      "..................\n",
      "Iteration 19:\n",
      "Variables: [0.5863071707416325, 1.7388713698977525]\n",
      "Objective: 0.0267341850987\n",
      "..................\n",
      "Best value: 0.0267341850987 \n",
      "\n"
     ]
    },
    {
     "data": {
      "text/plain": [
       "([0.5863071707416325, 1.7388713698977525], 0.026734185098703678)"
      ]
     },
     "execution_count": 2,
     "metadata": {},
     "output_type": "execute_result"
    }
   ],
   "source": [
    "# Lets instantiate the optimizer and minimize the function!\n",
    "optimizer = optimizer_type(domain)\n",
    "optimizer.minimize(func, n_iter=20, extra_params={'a': 0.5, 'b': 1.6}, verbose=True)"
   ]
  },
  {
   "cell_type": "code",
   "execution_count": 3,
   "metadata": {
    "collapsed": false
   },
   "outputs": [
    {
     "name": "stdout",
     "output_type": "stream",
     "text": [
      "[[  1.39782985e+00   2.04178523e+00]\n",
      " [  8.62333672e-01   3.66832902e+00]\n",
      " [ -5.87284026e-01   8.41920185e-02]\n",
      " [  2.18658722e+00   7.95260036e-02]\n",
      " [  1.51433159e+00   5.18343810e-04]\n",
      " [  1.51825562e+00   1.05165519e+00]\n",
      " [ -5.95899965e-01   6.50790246e-01]\n",
      " [  2.41075718e+00   2.41455393e+00]\n",
      " [  1.63995078e+00   2.86689488e+00]\n",
      " [  9.20796802e-01   1.47289834e-01]\n",
      " [ -1.05466253e-01   3.35379455e-01]\n",
      " [  1.09777218e+00   3.39893205e+00]\n",
      " [ -9.32429234e-01   3.91012664e-01]\n",
      " [  2.84086993e+00   9.99912395e-02]\n",
      " [ -3.38919281e-01   9.82281423e-01]\n",
      " [ -7.42586218e-01   3.79657081e+00]\n",
      " [  1.87790227e+00   4.02563497e-01]\n",
      " [  3.12562759e-01   9.48183698e-01]\n",
      " [  1.63868258e+00   5.65863411e-01]\n",
      " [  5.86307171e-01   1.73887137e+00]]\n",
      "[[ 1.00127263]\n",
      " [ 4.40927062]\n",
      " [ 3.47986039]\n",
      " [ 5.15641762]\n",
      " [ 3.58721014]\n",
      " [ 1.33752654]\n",
      " [ 2.10199589]\n",
      " [ 4.3144911 ]\n",
      " [ 2.90451042]\n",
      " [ 2.28743678]\n",
      " [ 1.96585451]\n",
      " [ 3.5934881 ]\n",
      " [ 3.51350389]\n",
      " [ 7.7296983 ]\n",
      " [ 1.0853618 ]\n",
      " [ 6.36894382]\n",
      " [ 3.33246884]\n",
      " [ 0.45999721]\n",
      " [ 2.3660365 ]\n",
      " [ 0.02673419]]\n",
      "[0.5863071707416325, 1.7388713698977525]\n",
      "0.0267341850987\n"
     ]
    }
   ],
   "source": [
    "# Now we have all the information in the optimizer object\n",
    "\n",
    "print(optimizer.X)\n",
    "print(optimizer.Y)\n",
    "print(optimizer.x_best)\n",
    "print(optimizer.y_best)"
   ]
  },
  {
   "cell_type": "code",
   "execution_count": 4,
   "metadata": {
    "collapsed": false
   },
   "outputs": [
    {
     "name": "stdout",
     "output_type": "stream",
     "text": [
      "[1.4956042159283047, 3.659495043868818]\n"
     ]
    }
   ],
   "source": [
    "# If we want, now we can keep asking for suggestions to the optimizer\n",
    "\n",
    "x_suggested = optimizer.suggest()\n",
    "print(x_suggested)"
   ]
  },
  {
   "cell_type": "code",
   "execution_count": 5,
   "metadata": {
    "collapsed": false
   },
   "outputs": [],
   "source": [
    "# If we want to evaluate the function manually and report to the optimizer, we can do it\n",
    "\n",
    "y_new = func(x_suggested[0], x_suggested[1], a=0.5, b=1.6)\n",
    "\n",
    "optimizer.report(x_suggested, y_new)"
   ]
  },
  {
   "cell_type": "code",
   "execution_count": 6,
   "metadata": {
    "collapsed": false
   },
   "outputs": [
    {
     "name": "stdout",
     "output_type": "stream",
     "text": [
      "(array([ 1.49560422,  3.65949504]), array([ 5.23274759]))\n"
     ]
    }
   ],
   "source": [
    "# We observe that the point is correctly reported\n",
    "\n",
    "print(optimizer.X[-1], optimizer.Y[-1])"
   ]
  },
  {
   "cell_type": "markdown",
   "metadata": {},
   "source": [
    "### Functions whose inputs are in form of vector"
   ]
  },
  {
   "cell_type": "markdown",
   "metadata": {},
   "source": [
    "If our function has the input as a vector or list it's okay, we just have to put the flag in the minimize() function."
   ]
  },
  {
   "cell_type": "code",
   "execution_count": 7,
   "metadata": {
    "collapsed": true
   },
   "outputs": [],
   "source": [
    "def func_list(x, a=1., b=2.):\n",
    "    return (x[0]-a)**2 + (x[1]-b)**2"
   ]
  },
  {
   "cell_type": "code",
   "execution_count": 8,
   "metadata": {
    "collapsed": false
   },
   "outputs": [
    {
     "name": "stdout",
     "output_type": "stream",
     "text": [
      "Iteration 0:\n",
      "Variables: [-0.34147456199919013, 2.348722124866455]\n",
      "Objective: 1.26866425876\n",
      "..................\n",
      "Iteration 1:\n",
      "Variables: [1.5481993214764804, 1.3765682149411935]\n",
      "Objective: 1.14864358012\n",
      "..................\n",
      "Iteration 2:\n",
      "Variables: [0.636716770676133, 1.3237340691522856]\n",
      "Objective: 0.0950143399313\n",
      "..................\n",
      "Iteration 3:\n",
      "Variables: [2.137193132093874, 0.5539150267546078]\n",
      "Objective: 3.77469512303\n",
      "..................\n",
      "Iteration 4:\n",
      "Variables: [1.034497224081894, 0.16616164379431186]\n",
      "Objective: 2.34157971428\n",
      "..................\n",
      "Iteration 5:\n",
      "Variables: [2.8093446606191748, 0.0018944630544641683]\n",
      "Objective: 7.88701406875\n",
      "..................\n",
      "Iteration 6:\n",
      "Variables: [0.18799146006987044, 2.0440035670507974]\n",
      "Objective: 0.294488496543\n",
      "..................\n",
      "Iteration 7:\n",
      "Variables: [0.5202494811294178, 1.7821402941069766]\n",
      "Objective: 0.0335851282234\n",
      "..................\n",
      "Iteration 8:\n",
      "Variables: [2.274738284818824, 2.142619933031596]\n",
      "Objective: 3.44413237132\n",
      "..................\n",
      "Iteration 9:\n",
      "Variables: [2.8193350683189196, 1.3086899299347365]\n",
      "Objective: 5.46417671606\n",
      "..................\n",
      "Iteration 10:\n",
      "Variables: [2.450995409566619, 3.4006573531792634]\n",
      "Objective: 7.04874999171\n",
      "..................\n",
      "Iteration 11:\n",
      "Variables: [0.567080296738808, 3.0403829796963393]\n",
      "Objective: 2.07920289441\n",
      "..................\n",
      "Iteration 12:\n",
      "Variables: [0.37298162747087193, 3.1118576756697967]\n",
      "Objective: 2.30184729844\n",
      "..................\n",
      "Iteration 13:\n",
      "Variables: [-0.12919775973335135, 3.5638577500014263]\n",
      "Objective: 4.25262708309\n",
      "..................\n",
      "Iteration 14:\n",
      "Variables: [1.609958259028895, 3.2148271248840268]\n",
      "Objective: 3.83967398005\n",
      "..................\n",
      "Iteration 15:\n",
      "Variables: [-0.7980457243779369, 1.8737833038134335]\n",
      "Objective: 1.75988000002\n",
      "..................\n",
      "Iteration 16:\n",
      "Variables: [-0.9081736484746141, 2.4796225826470963]\n",
      "Objective: 2.75668891216\n",
      "..................\n",
      "Iteration 17:\n",
      "Variables: [0.6903202676818774, 3.390096110675727]\n",
      "Objective: 3.24066588975\n",
      "..................\n",
      "Iteration 18:\n",
      "Variables: [1.787541206718835, 3.320865494403351]\n",
      "Objective: 4.61914040883\n",
      "..................\n",
      "Iteration 19:\n",
      "Variables: [2.558226914603281, 1.931271695221724]\n",
      "Objective: 4.34603896805\n",
      "..................\n",
      "Best value: 0.0335851282234 \n",
      "\n"
     ]
    },
    {
     "data": {
      "text/plain": [
       "([0.5202494811294178, 1.7821402941069766], 0.03358512822338655)"
      ]
     },
     "execution_count": 8,
     "metadata": {},
     "output_type": "execute_result"
    }
   ],
   "source": [
    "optimizer.reset()\n",
    "optimizer.minimize(func_list, n_iter=20, extra_params={'a': 0.5, 'b': 1.6}, input_as_list=True, verbose=True)"
   ]
  }
 ],
 "metadata": {
  "kernelspec": {
   "display_name": "Python 2",
   "language": "python",
   "name": "python2"
  },
  "language_info": {
   "codemirror_mode": {
    "name": "ipython",
    "version": 2
   },
   "file_extension": ".py",
   "mimetype": "text/x-python",
   "name": "python",
   "nbconvert_exporter": "python",
   "pygments_lexer": "ipython2",
   "version": "2.7.12"
  }
 },
 "nbformat": 4,
 "nbformat_minor": 0
}
